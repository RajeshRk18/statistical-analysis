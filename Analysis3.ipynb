{
 "cells": [
  {
   "cell_type": "markdown",
   "metadata": {},
   "source": [
    "# GWP_3 : Statistical Risk\n"
   ]
  },
  {
   "cell_type": "markdown",
   "metadata": {},
   "source": [
    "## Introduction  \n",
    "\n",
    "In the world of finance, risk refers to degree of uncertainity leading to potential financial loss in a portfolio. An investor needs to know and be prepared of all kind of risks which could affect the return on the investment. There could be so many sources of risks in an investment which are broadly classified as Credit Risk, Market Risk, Climate Risk, Operational Risk, Risk due to upfront market shock, Liquidity Risk etc. Some of them can be quantified mathematically/ statisticaly whereas some of them can be qualitative. In this project, we will discuss about some statistical methods to capture/ quantify risk."
   ]
  },
  {
   "cell_type": "markdown",
   "metadata": {},
   "source": [
    "## Statistical Risk  \n",
    "\n",
    "The foundation of measuring financial risk has been mathematical. Mathematical tools and Statistical techniques are used to measure different types of risks on investment. For example, Value at Risk captures is measured using several Statistical methods which helps to capture the risk in an investment due to market movements. Capital Asset Pricing Models are developed statisticallly which is used to calculate the market implied probability of default. Apart from these models, studying certain statistical measures like variance, correlation etc. help in portfolio construction by computing and comparing risks.  \n",
    "\n",
    "Let us look into few of these closely."
   ]
  },
  {
   "cell_type": "markdown",
   "metadata": {},
   "source": [
    "### Volatility  \n",
    "\n",
    "Volatility is a measure of dispersion which helps determining risk in certain asset or portfolio. While creating portfolio of assets, we want to ensure maximum return with minimum risk.  There could be certain asset like cryptocurrencies which are likely to give great return on investment but at the same time these assets are highly risky. If we observe the price time series of a cryptocurrency (BTC, say), it is observed to be extremely volatile which brings uncertainity and risk in portfolio.  \n",
    "Volatility can be measured by computing several statistical measures on the price returns of an asset. Such measures are :  \n",
    "* Standard Deviation\n",
    "* Variance\n",
    "* Semi-deviation\n",
    "* Semi-variance\n",
    "* Mean absolute deviation\n",
    "etc.  \n",
    "\n",
    "#### Variance :  \n",
    "Let, $ r_i $ be the price return at time point $i$. The return variance is defined as :\n",
    "\\begin{equation}\n",
    "s^2 = \\frac{1}{n-1}\\sum\\limits_{i = 1}^n {\\left( {r_i - \\bar r} \\right)^2 }\n",
    "\\end{equation}\n",
    "This serves as a measure of volatility of a time series.  \n",
    "\n",
    "#### Standard Deviation :\n",
    "Standard deviation is defined as square root of the variance which makes the unit of the measure same as that off return. Let, $ r_i $ be the price return at time point $i$. The return standard-deviation is defined as :  \n",
    "\\begin{equation}\n",
    "s^2 = \\sqrt { \\frac{1}{n-1}\\sum\\limits_{i = 1}^n {\\left( {r_i - \\bar r} \\right)^2 } }\n",
    "\\end{equation}  \n",
    "\n",
    "#### Semi-Variance :  \n",
    "Semi-variance is another measure of dispersion which only considers the downside risk. Hence, it only sums up the squares of returns which are below the average return. Let, $ r_i $ be the price return at time point $i$. The semi-variance of the returns is defined as :\n",
    "\\begin{equation}\n",
    "semi-variance = \\frac{1}{n-1}\\sum\\limits_{i = 1 \\\\ r_i < \\bar r}^n {\\left( {r_i - \\bar r} \\right)^2 }\n",
    "\\end{equation}  \n",
    "\n",
    "#### Semi-Deviation :\n",
    "This too captures the downside risk only in the same unit as the returns. This computed by taking square root of the Semi-Varoance.\n",
    "\\begin{equation}\n",
    "semi-deviation = \\sqrt { \\frac{1}{n-1}\\sum\\limits_{i = 1 \\\\ r_i < \\bar r}^n {\\left( {r_i - \\bar r} \\right)^2 } }\n",
    "\\end{equation}  \n",
    "\n",
    "#### Mean Absolute Deviation\n",
    "This captures the  volatility by averaging the absolute deviation of the returns from their avarage. Here is how it is calculated.\n",
    "\\begin{equation}\n",
    "Mean Absolute Deviation = \\frac{1}{n-1}\\sum\\limits_{i = 1}^n {|{r_i - \\bar r|}}\n",
    "\\end{equation}  \n",
    "\n",
    "\n",
    "**Usefulness of volatility in portfolio creation**  \n",
    "\n",
    "Higher the measure of volatility, riskier the asset would be. An investor might pre-fix a threshold of volatility while constructing a portfolio. If there are two assets with similar daily return but one of them has high volatility, one would like to discard from the portfolio.  \n",
    "As we all know, higher risk yields higher return. Then what if an investor thinks a risky asset has a huge potential of price inflation? The investor might be willing to keep it in the portfolio anyways. In such cases, one should choose other assets in the portfolio such a way that, the over all volatility of the portfolio comes down. This can be achieved by **diversification**.\n"
   ]
  },
  {
   "cell_type": "markdown",
   "metadata": {},
   "source": [
    "### Correlation  \n",
    "\n",
    "Correlation is a statistical measure that captures the measure of association between two variables. In portfolio selection, the investor always tries to diversify the portfolio in order to achieve lower volatility which bets lower risk. Choosing multplie assets in a portfolio with as less correlation as possible, helps in diversification. Correlation of a bivariate data can be measured using below methods.\n",
    "\n",
    "#### Pearson Correlation Coefficient\n",
    "Let $(x_i, y_i),   \\forall i=1(1)n$ be a bivariate data. The Pearson correlation coefficient is calculated as :\n",
    "\\begin{equation}\n",
    "\\rho_{x,y} = \\frac {Cov(x, y)} {Var(x)}\n",
    "\\end{equation}\n",
    "where,  \n",
    "\\begin{equation}\n",
    "Cov(x, y) = \\frac{1}{n}\\sum\\limits_{i = 1}^n { \\left( {x_i - \\bar x} \\right) \\left( {y_i - \\bar y} \\right) }\n",
    "\\end{equation}\n",
    "\n",
    "This measure computes the extent of linear relationship between variables. This measure fails to capture non-linear relationships.\n",
    "\n",
    "#### Spearman's Rank Correlation Coefficient\n",
    "This is a rank based measure of association between two variables. It captures at which extent two variables are moving in the same derection.\n",
    "Let $(x_i, y_i),   \\forall i=1(1)n$ be a bivariate data. The Spearman correlation coefficient is calculated as :\n",
    "\\begin{equation}\n",
    "\\rho = 1- {\\frac {6 \\sum d_i^2}{n(n^2 - 1)}}\n",
    "\\end{equation}\n",
    "where,  \n",
    "$d_i$ = the pairwise distances of the ranks of the variables $x_i$ and $y_i$\n",
    "\n",
    "#### Kendal's Rank Correlation Coefficient\n",
    "This is measure of correlation which is similar to the Spearman's correlation coefficient, capturing the extent of association at which the variables are moving together.\n",
    "The Kendal's correlation coefficient is calculated as :\n",
    "\\begin{equation}\n",
    "\\tau = \\frac{c-d}{c+d}\n",
    "\\end{equation}\n",
    "where,  \n",
    "c = the number of concordant pairs  \n",
    "d = the number of discordant pairs"
   ]
  },
  {
   "cell_type": "markdown",
   "metadata": {},
   "source": [
    "Thus, by studying volatility and correlation of assets, one can asses the risk in a portfolio. "
   ]
  },
  {
   "cell_type": "markdown",
   "metadata": {},
   "source": [
    "### Value at Risk  \n",
    "\n",
    "Value at Risk is a measure of potential risk in a portfolio"
   ]
  },
  {
   "cell_type": "code",
   "execution_count": 238,
   "metadata": {},
   "outputs": [],
   "source": [
    "import pandas as pd\n",
    "import matplotlib.pyplot as plt\n",
    "import numpy as np\n",
    "import yfinance as yf\n",
    "from scipy.signal import correlate\n",
    "from scipy.stats import norm"
   ]
  },
  {
   "cell_type": "code",
   "execution_count": 214,
   "metadata": {},
   "outputs": [
    {
     "name": "stdout",
     "output_type": "stream",
     "text": [
      "[*********************100%***********************]  1 of 1 completed\n"
     ]
    },
    {
     "data": {
      "text/html": [
       "<div>\n",
       "<style scoped>\n",
       "    .dataframe tbody tr th:only-of-type {\n",
       "        vertical-align: middle;\n",
       "    }\n",
       "\n",
       "    .dataframe tbody tr th {\n",
       "        vertical-align: top;\n",
       "    }\n",
       "\n",
       "    .dataframe thead th {\n",
       "        text-align: right;\n",
       "    }\n",
       "</style>\n",
       "<table border=\"1\" class=\"dataframe\">\n",
       "  <thead>\n",
       "    <tr style=\"text-align: right;\">\n",
       "      <th></th>\n",
       "      <th>Open</th>\n",
       "      <th>High</th>\n",
       "      <th>Low</th>\n",
       "      <th>Close</th>\n",
       "      <th>Adj Close</th>\n",
       "    </tr>\n",
       "  </thead>\n",
       "  <tbody>\n",
       "    <tr>\n",
       "      <th>0</th>\n",
       "      <td>11.200000</td>\n",
       "      <td>11.390000</td>\n",
       "      <td>11.056667</td>\n",
       "      <td>11.105333</td>\n",
       "      <td>11.105333</td>\n",
       "    </tr>\n",
       "    <tr>\n",
       "      <th>1</th>\n",
       "      <td>11.005333</td>\n",
       "      <td>11.228000</td>\n",
       "      <td>10.890667</td>\n",
       "      <td>11.082000</td>\n",
       "      <td>11.082000</td>\n",
       "    </tr>\n",
       "    <tr>\n",
       "      <th>2</th>\n",
       "      <td>11.138000</td>\n",
       "      <td>11.163333</td>\n",
       "      <td>10.946667</td>\n",
       "      <td>11.081333</td>\n",
       "      <td>11.081333</td>\n",
       "    </tr>\n",
       "    <tr>\n",
       "      <th>3</th>\n",
       "      <td>11.386667</td>\n",
       "      <td>12.031333</td>\n",
       "      <td>11.272000</td>\n",
       "      <td>11.861333</td>\n",
       "      <td>11.861333</td>\n",
       "    </tr>\n",
       "    <tr>\n",
       "      <th>4</th>\n",
       "      <td>11.926667</td>\n",
       "      <td>12.388667</td>\n",
       "      <td>11.904000</td>\n",
       "      <td>12.226000</td>\n",
       "      <td>12.226000</td>\n",
       "    </tr>\n",
       "    <tr>\n",
       "      <th>...</th>\n",
       "      <td>...</td>\n",
       "      <td>...</td>\n",
       "      <td>...</td>\n",
       "      <td>...</td>\n",
       "      <td>...</td>\n",
       "    </tr>\n",
       "    <tr>\n",
       "      <th>995</th>\n",
       "      <td>23.152000</td>\n",
       "      <td>23.156668</td>\n",
       "      <td>22.648001</td>\n",
       "      <td>23.044001</td>\n",
       "      <td>23.044001</td>\n",
       "    </tr>\n",
       "    <tr>\n",
       "      <th>996</th>\n",
       "      <td>22.632000</td>\n",
       "      <td>23.270000</td>\n",
       "      <td>22.583332</td>\n",
       "      <td>23.157333</td>\n",
       "      <td>23.157333</td>\n",
       "    </tr>\n",
       "    <tr>\n",
       "      <th>997</th>\n",
       "      <td>23.311333</td>\n",
       "      <td>23.564667</td>\n",
       "      <td>23.133333</td>\n",
       "      <td>23.545334</td>\n",
       "      <td>23.545334</td>\n",
       "    </tr>\n",
       "    <tr>\n",
       "      <th>998</th>\n",
       "      <td>23.570000</td>\n",
       "      <td>23.896000</td>\n",
       "      <td>23.521334</td>\n",
       "      <td>23.726667</td>\n",
       "      <td>23.726667</td>\n",
       "    </tr>\n",
       "    <tr>\n",
       "      <th>999</th>\n",
       "      <td>23.741333</td>\n",
       "      <td>23.839333</td>\n",
       "      <td>23.579332</td>\n",
       "      <td>23.693333</td>\n",
       "      <td>23.693333</td>\n",
       "    </tr>\n",
       "  </tbody>\n",
       "</table>\n",
       "<p>1000 rows × 5 columns</p>\n",
       "</div>"
      ],
      "text/plain": [
       "          Open       High        Low      Close  Adj Close\n",
       "0    11.200000  11.390000  11.056667  11.105333  11.105333\n",
       "1    11.005333  11.228000  10.890667  11.082000  11.082000\n",
       "2    11.138000  11.163333  10.946667  11.081333  11.081333\n",
       "3    11.386667  12.031333  11.272000  11.861333  11.861333\n",
       "4    11.926667  12.388667  11.904000  12.226000  12.226000\n",
       "..         ...        ...        ...        ...        ...\n",
       "995  23.152000  23.156668  22.648001  23.044001  23.044001\n",
       "996  22.632000  23.270000  22.583332  23.157333  23.157333\n",
       "997  23.311333  23.564667  23.133333  23.545334  23.545334\n",
       "998  23.570000  23.896000  23.521334  23.726667  23.726667\n",
       "999  23.741333  23.839333  23.579332  23.693333  23.693333\n",
       "\n",
       "[1000 rows x 5 columns]"
      ]
     },
     "execution_count": 214,
     "metadata": {},
     "output_type": "execute_result"
    }
   ],
   "source": [
    "tesla = yf.download('TSLA', start=\"2013-09-14\", end=\"2017-09-05\")\n",
    "del tesla[\"Volume\"]\n",
    "tesla = tesla.reset_index(drop=True)\n",
    "tesla"
   ]
  },
  {
   "cell_type": "code",
   "execution_count": 215,
   "metadata": {},
   "outputs": [
    {
     "data": {
      "text/html": [
       "<div>\n",
       "<style scoped>\n",
       "    .dataframe tbody tr th:only-of-type {\n",
       "        vertical-align: middle;\n",
       "    }\n",
       "\n",
       "    .dataframe tbody tr th {\n",
       "        vertical-align: top;\n",
       "    }\n",
       "\n",
       "    .dataframe thead th {\n",
       "        text-align: right;\n",
       "    }\n",
       "</style>\n",
       "<table border=\"1\" class=\"dataframe\">\n",
       "  <thead>\n",
       "    <tr style=\"text-align: right;\">\n",
       "      <th></th>\n",
       "      <th>Open</th>\n",
       "      <th>High</th>\n",
       "      <th>Low</th>\n",
       "      <th>Close</th>\n",
       "      <th>Adj Close</th>\n",
       "      <th>Daily Returns</th>\n",
       "    </tr>\n",
       "  </thead>\n",
       "  <tbody>\n",
       "    <tr>\n",
       "      <th>0</th>\n",
       "      <td>11.200000</td>\n",
       "      <td>11.390000</td>\n",
       "      <td>11.056667</td>\n",
       "      <td>11.105333</td>\n",
       "      <td>11.105333</td>\n",
       "      <td>NaN</td>\n",
       "    </tr>\n",
       "    <tr>\n",
       "      <th>1</th>\n",
       "      <td>11.005333</td>\n",
       "      <td>11.228000</td>\n",
       "      <td>10.890667</td>\n",
       "      <td>11.082000</td>\n",
       "      <td>11.082000</td>\n",
       "      <td>-0.002103</td>\n",
       "    </tr>\n",
       "    <tr>\n",
       "      <th>2</th>\n",
       "      <td>11.138000</td>\n",
       "      <td>11.163333</td>\n",
       "      <td>10.946667</td>\n",
       "      <td>11.081333</td>\n",
       "      <td>11.081333</td>\n",
       "      <td>-0.000060</td>\n",
       "    </tr>\n",
       "    <tr>\n",
       "      <th>3</th>\n",
       "      <td>11.386667</td>\n",
       "      <td>12.031333</td>\n",
       "      <td>11.272000</td>\n",
       "      <td>11.861333</td>\n",
       "      <td>11.861333</td>\n",
       "      <td>0.068022</td>\n",
       "    </tr>\n",
       "    <tr>\n",
       "      <th>4</th>\n",
       "      <td>11.926667</td>\n",
       "      <td>12.388667</td>\n",
       "      <td>11.904000</td>\n",
       "      <td>12.226000</td>\n",
       "      <td>12.226000</td>\n",
       "      <td>0.030281</td>\n",
       "    </tr>\n",
       "    <tr>\n",
       "      <th>...</th>\n",
       "      <td>...</td>\n",
       "      <td>...</td>\n",
       "      <td>...</td>\n",
       "      <td>...</td>\n",
       "      <td>...</td>\n",
       "      <td>...</td>\n",
       "    </tr>\n",
       "    <tr>\n",
       "      <th>995</th>\n",
       "      <td>23.152000</td>\n",
       "      <td>23.156668</td>\n",
       "      <td>22.648001</td>\n",
       "      <td>23.044001</td>\n",
       "      <td>23.044001</td>\n",
       "      <td>-0.006890</td>\n",
       "    </tr>\n",
       "    <tr>\n",
       "      <th>996</th>\n",
       "      <td>22.632000</td>\n",
       "      <td>23.270000</td>\n",
       "      <td>22.583332</td>\n",
       "      <td>23.157333</td>\n",
       "      <td>23.157333</td>\n",
       "      <td>0.004906</td>\n",
       "    </tr>\n",
       "    <tr>\n",
       "      <th>997</th>\n",
       "      <td>23.311333</td>\n",
       "      <td>23.564667</td>\n",
       "      <td>23.133333</td>\n",
       "      <td>23.545334</td>\n",
       "      <td>23.545334</td>\n",
       "      <td>0.016616</td>\n",
       "    </tr>\n",
       "    <tr>\n",
       "      <th>998</th>\n",
       "      <td>23.570000</td>\n",
       "      <td>23.896000</td>\n",
       "      <td>23.521334</td>\n",
       "      <td>23.726667</td>\n",
       "      <td>23.726667</td>\n",
       "      <td>0.007672</td>\n",
       "    </tr>\n",
       "    <tr>\n",
       "      <th>999</th>\n",
       "      <td>23.741333</td>\n",
       "      <td>23.839333</td>\n",
       "      <td>23.579332</td>\n",
       "      <td>23.693333</td>\n",
       "      <td>23.693333</td>\n",
       "      <td>-0.001406</td>\n",
       "    </tr>\n",
       "  </tbody>\n",
       "</table>\n",
       "<p>1000 rows × 6 columns</p>\n",
       "</div>"
      ],
      "text/plain": [
       "          Open       High        Low      Close  Adj Close  Daily Returns\n",
       "0    11.200000  11.390000  11.056667  11.105333  11.105333            NaN\n",
       "1    11.005333  11.228000  10.890667  11.082000  11.082000      -0.002103\n",
       "2    11.138000  11.163333  10.946667  11.081333  11.081333      -0.000060\n",
       "3    11.386667  12.031333  11.272000  11.861333  11.861333       0.068022\n",
       "4    11.926667  12.388667  11.904000  12.226000  12.226000       0.030281\n",
       "..         ...        ...        ...        ...        ...            ...\n",
       "995  23.152000  23.156668  22.648001  23.044001  23.044001      -0.006890\n",
       "996  22.632000  23.270000  22.583332  23.157333  23.157333       0.004906\n",
       "997  23.311333  23.564667  23.133333  23.545334  23.545334       0.016616\n",
       "998  23.570000  23.896000  23.521334  23.726667  23.726667       0.007672\n",
       "999  23.741333  23.839333  23.579332  23.693333  23.693333      -0.001406\n",
       "\n",
       "[1000 rows x 6 columns]"
      ]
     },
     "execution_count": 215,
     "metadata": {},
     "output_type": "execute_result"
    }
   ],
   "source": [
    "tesla[\"Daily Returns\"] = np.log(tesla[\"Adj Close\"] / tesla[\"Adj Close\"].shift(1))\n",
    "tesla"
   ]
  },
  {
   "cell_type": "code",
   "execution_count": 216,
   "metadata": {},
   "outputs": [
    {
     "name": "stdout",
     "output_type": "stream",
     "text": [
      "Variance: 0.0007503685604357123\n",
      "Standard Deviation: 0.027392856010933074\n"
     ]
    }
   ],
   "source": [
    "variance = tesla[\"Daily Returns\"].var()\n",
    "std = tesla[\"Daily Returns\"].std()\n",
    "print(f\"Variance: {variance}\\nStandard Deviation: {std}\")"
   ]
  },
  {
   "cell_type": "code",
   "execution_count": 217,
   "metadata": {},
   "outputs": [
    {
     "data": {
      "text/html": [
       "<div>\n",
       "<style scoped>\n",
       "    .dataframe tbody tr th:only-of-type {\n",
       "        vertical-align: middle;\n",
       "    }\n",
       "\n",
       "    .dataframe tbody tr th {\n",
       "        vertical-align: top;\n",
       "    }\n",
       "\n",
       "    .dataframe thead th {\n",
       "        text-align: right;\n",
       "    }\n",
       "</style>\n",
       "<table border=\"1\" class=\"dataframe\">\n",
       "  <thead>\n",
       "    <tr style=\"text-align: right;\">\n",
       "      <th></th>\n",
       "      <th>Date</th>\n",
       "      <th>Open</th>\n",
       "      <th>High</th>\n",
       "      <th>Low</th>\n",
       "      <th>Close</th>\n",
       "    </tr>\n",
       "  </thead>\n",
       "  <tbody>\n",
       "    <tr>\n",
       "      <th>0</th>\n",
       "      <td>Dec 11, 2014</td>\n",
       "      <td>344.34</td>\n",
       "      <td>361.36</td>\n",
       "      <td>338.76</td>\n",
       "      <td>350.51</td>\n",
       "    </tr>\n",
       "    <tr>\n",
       "      <th>1</th>\n",
       "      <td>Dec 12, 2014</td>\n",
       "      <td>350.83</td>\n",
       "      <td>352.98</td>\n",
       "      <td>349.29</td>\n",
       "      <td>352.54</td>\n",
       "    </tr>\n",
       "    <tr>\n",
       "      <th>2</th>\n",
       "      <td>Dec 13, 2014</td>\n",
       "      <td>352.38</td>\n",
       "      <td>352.38</td>\n",
       "      <td>346.59</td>\n",
       "      <td>347.38</td>\n",
       "    </tr>\n",
       "    <tr>\n",
       "      <th>3</th>\n",
       "      <td>Dec 14, 2014</td>\n",
       "      <td>346.73</td>\n",
       "      <td>353.32</td>\n",
       "      <td>345.42</td>\n",
       "      <td>351.63</td>\n",
       "    </tr>\n",
       "    <tr>\n",
       "      <th>4</th>\n",
       "      <td>Dec 15, 2014</td>\n",
       "      <td>351.36</td>\n",
       "      <td>351.81</td>\n",
       "      <td>344.93</td>\n",
       "      <td>345.35</td>\n",
       "    </tr>\n",
       "    <tr>\n",
       "      <th>...</th>\n",
       "      <td>...</td>\n",
       "      <td>...</td>\n",
       "      <td>...</td>\n",
       "      <td>...</td>\n",
       "      <td>...</td>\n",
       "    </tr>\n",
       "    <tr>\n",
       "      <th>995</th>\n",
       "      <td>Sep 01, 2017</td>\n",
       "      <td>4701.76</td>\n",
       "      <td>4892.01</td>\n",
       "      <td>4678.53</td>\n",
       "      <td>4892.01</td>\n",
       "    </tr>\n",
       "    <tr>\n",
       "      <th>996</th>\n",
       "      <td>Sep 02, 2017</td>\n",
       "      <td>4901.42</td>\n",
       "      <td>4975.04</td>\n",
       "      <td>4469.24</td>\n",
       "      <td>4578.77</td>\n",
       "    </tr>\n",
       "    <tr>\n",
       "      <th>997</th>\n",
       "      <td>Sep 03, 2017</td>\n",
       "      <td>4585.27</td>\n",
       "      <td>4714.08</td>\n",
       "      <td>4417.59</td>\n",
       "      <td>4582.96</td>\n",
       "    </tr>\n",
       "    <tr>\n",
       "      <th>998</th>\n",
       "      <td>Sep 04, 2017</td>\n",
       "      <td>4591.63</td>\n",
       "      <td>4591.63</td>\n",
       "      <td>4108.40</td>\n",
       "      <td>4236.31</td>\n",
       "    </tr>\n",
       "    <tr>\n",
       "      <th>999</th>\n",
       "      <td>Sep 05, 2017</td>\n",
       "      <td>4228.29</td>\n",
       "      <td>4427.84</td>\n",
       "      <td>3998.11</td>\n",
       "      <td>4376.53</td>\n",
       "    </tr>\n",
       "  </tbody>\n",
       "</table>\n",
       "<p>1000 rows × 5 columns</p>\n",
       "</div>"
      ],
      "text/plain": [
       "             Date     Open     High      Low    Close\n",
       "0    Dec 11, 2014   344.34   361.36   338.76   350.51\n",
       "1    Dec 12, 2014   350.83   352.98   349.29   352.54\n",
       "2    Dec 13, 2014   352.38   352.38   346.59   347.38\n",
       "3    Dec 14, 2014   346.73   353.32   345.42   351.63\n",
       "4    Dec 15, 2014   351.36   351.81   344.93   345.35\n",
       "..            ...      ...      ...      ...      ...\n",
       "995  Sep 01, 2017  4701.76  4892.01  4678.53  4892.01\n",
       "996  Sep 02, 2017  4901.42  4975.04  4469.24  4578.77\n",
       "997  Sep 03, 2017  4585.27  4714.08  4417.59  4582.96\n",
       "998  Sep 04, 2017  4591.63  4591.63  4108.40  4236.31\n",
       "999  Sep 05, 2017  4228.29  4427.84  3998.11  4376.53\n",
       "\n",
       "[1000 rows x 5 columns]"
      ]
     },
     "execution_count": 217,
     "metadata": {},
     "output_type": "execute_result"
    }
   ],
   "source": [
    "bitcoin = pd.read_csv(\"bitcoin_price.csv\")[::-1][-1000:]\n",
    "bitcoin = bitcoin.reset_index(drop=True)\n",
    "del bitcoin[\"Volume\"], bitcoin[\"Market Cap\"]\n",
    "bitcoin"
   ]
  },
  {
   "cell_type": "code",
   "execution_count": 218,
   "metadata": {},
   "outputs": [
    {
     "data": {
      "text/html": [
       "<div>\n",
       "<style scoped>\n",
       "    .dataframe tbody tr th:only-of-type {\n",
       "        vertical-align: middle;\n",
       "    }\n",
       "\n",
       "    .dataframe tbody tr th {\n",
       "        vertical-align: top;\n",
       "    }\n",
       "\n",
       "    .dataframe thead th {\n",
       "        text-align: right;\n",
       "    }\n",
       "</style>\n",
       "<table border=\"1\" class=\"dataframe\">\n",
       "  <thead>\n",
       "    <tr style=\"text-align: right;\">\n",
       "      <th></th>\n",
       "      <th>Date</th>\n",
       "      <th>Open</th>\n",
       "      <th>High</th>\n",
       "      <th>Low</th>\n",
       "      <th>Close</th>\n",
       "      <th>Daily Returns</th>\n",
       "    </tr>\n",
       "  </thead>\n",
       "  <tbody>\n",
       "    <tr>\n",
       "      <th>0</th>\n",
       "      <td>Dec 11, 2014</td>\n",
       "      <td>344.34</td>\n",
       "      <td>361.36</td>\n",
       "      <td>338.76</td>\n",
       "      <td>350.51</td>\n",
       "      <td>NaN</td>\n",
       "    </tr>\n",
       "    <tr>\n",
       "      <th>1</th>\n",
       "      <td>Dec 12, 2014</td>\n",
       "      <td>350.83</td>\n",
       "      <td>352.98</td>\n",
       "      <td>349.29</td>\n",
       "      <td>352.54</td>\n",
       "      <td>0.005775</td>\n",
       "    </tr>\n",
       "    <tr>\n",
       "      <th>2</th>\n",
       "      <td>Dec 13, 2014</td>\n",
       "      <td>352.38</td>\n",
       "      <td>352.38</td>\n",
       "      <td>346.59</td>\n",
       "      <td>347.38</td>\n",
       "      <td>-0.014745</td>\n",
       "    </tr>\n",
       "    <tr>\n",
       "      <th>3</th>\n",
       "      <td>Dec 14, 2014</td>\n",
       "      <td>346.73</td>\n",
       "      <td>353.32</td>\n",
       "      <td>345.42</td>\n",
       "      <td>351.63</td>\n",
       "      <td>0.012160</td>\n",
       "    </tr>\n",
       "    <tr>\n",
       "      <th>4</th>\n",
       "      <td>Dec 15, 2014</td>\n",
       "      <td>351.36</td>\n",
       "      <td>351.81</td>\n",
       "      <td>344.93</td>\n",
       "      <td>345.35</td>\n",
       "      <td>-0.018021</td>\n",
       "    </tr>\n",
       "    <tr>\n",
       "      <th>...</th>\n",
       "      <td>...</td>\n",
       "      <td>...</td>\n",
       "      <td>...</td>\n",
       "      <td>...</td>\n",
       "      <td>...</td>\n",
       "      <td>...</td>\n",
       "    </tr>\n",
       "    <tr>\n",
       "      <th>995</th>\n",
       "      <td>Sep 01, 2017</td>\n",
       "      <td>4701.76</td>\n",
       "      <td>4892.01</td>\n",
       "      <td>4678.53</td>\n",
       "      <td>4892.01</td>\n",
       "      <td>0.039320</td>\n",
       "    </tr>\n",
       "    <tr>\n",
       "      <th>996</th>\n",
       "      <td>Sep 02, 2017</td>\n",
       "      <td>4901.42</td>\n",
       "      <td>4975.04</td>\n",
       "      <td>4469.24</td>\n",
       "      <td>4578.77</td>\n",
       "      <td>-0.066173</td>\n",
       "    </tr>\n",
       "    <tr>\n",
       "      <th>997</th>\n",
       "      <td>Sep 03, 2017</td>\n",
       "      <td>4585.27</td>\n",
       "      <td>4714.08</td>\n",
       "      <td>4417.59</td>\n",
       "      <td>4582.96</td>\n",
       "      <td>0.000915</td>\n",
       "    </tr>\n",
       "    <tr>\n",
       "      <th>998</th>\n",
       "      <td>Sep 04, 2017</td>\n",
       "      <td>4591.63</td>\n",
       "      <td>4591.63</td>\n",
       "      <td>4108.40</td>\n",
       "      <td>4236.31</td>\n",
       "      <td>-0.078652</td>\n",
       "    </tr>\n",
       "    <tr>\n",
       "      <th>999</th>\n",
       "      <td>Sep 05, 2017</td>\n",
       "      <td>4228.29</td>\n",
       "      <td>4427.84</td>\n",
       "      <td>3998.11</td>\n",
       "      <td>4376.53</td>\n",
       "      <td>0.032564</td>\n",
       "    </tr>\n",
       "  </tbody>\n",
       "</table>\n",
       "<p>1000 rows × 6 columns</p>\n",
       "</div>"
      ],
      "text/plain": [
       "             Date     Open     High      Low    Close  Daily Returns\n",
       "0    Dec 11, 2014   344.34   361.36   338.76   350.51            NaN\n",
       "1    Dec 12, 2014   350.83   352.98   349.29   352.54       0.005775\n",
       "2    Dec 13, 2014   352.38   352.38   346.59   347.38      -0.014745\n",
       "3    Dec 14, 2014   346.73   353.32   345.42   351.63       0.012160\n",
       "4    Dec 15, 2014   351.36   351.81   344.93   345.35      -0.018021\n",
       "..            ...      ...      ...      ...      ...            ...\n",
       "995  Sep 01, 2017  4701.76  4892.01  4678.53  4892.01       0.039320\n",
       "996  Sep 02, 2017  4901.42  4975.04  4469.24  4578.77      -0.066173\n",
       "997  Sep 03, 2017  4585.27  4714.08  4417.59  4582.96       0.000915\n",
       "998  Sep 04, 2017  4591.63  4591.63  4108.40  4236.31      -0.078652\n",
       "999  Sep 05, 2017  4228.29  4427.84  3998.11  4376.53       0.032564\n",
       "\n",
       "[1000 rows x 6 columns]"
      ]
     },
     "execution_count": 218,
     "metadata": {},
     "output_type": "execute_result"
    }
   ],
   "source": [
    "bitcoin[\"Daily Returns\"] = np.log(bitcoin[\"Close\"] / bitcoin[\"Close\"].shift(1))\n",
    "bitcoin"
   ]
  },
  {
   "cell_type": "code",
   "execution_count": 219,
   "metadata": {},
   "outputs": [
    {
     "name": "stdout",
     "output_type": "stream",
     "text": [
      "Variance: 0.0012027988293614403\n",
      "Standard Deviation: 0.034681390245511215\n"
     ]
    }
   ],
   "source": [
    "variance = bitcoin[\"Daily Returns\"].var()\n",
    "std = bitcoin[\"Daily Returns\"].std()\n",
    "print(f\"Variance: {variance}\\nStandard Deviation: {std}\")"
   ]
  },
  {
   "cell_type": "markdown",
   "metadata": {},
   "source": [
    "### Calculating Downside Risk of an asset"
   ]
  },
  {
   "cell_type": "code",
   "execution_count": 220,
   "metadata": {},
   "outputs": [
    {
     "data": {
      "text/plain": [
       "0.0007585267405046777"
      ]
     },
     "execution_count": 220,
     "metadata": {},
     "output_type": "execute_result"
    }
   ],
   "source": [
    "tsla_avg_ret = tesla[\"Daily Returns\"].mean()\n",
    "tsla_avg_ret"
   ]
  },
  {
   "cell_type": "code",
   "execution_count": 221,
   "metadata": {},
   "outputs": [
    {
     "data": {
      "text/plain": [
       "0.0007295590527161446"
      ]
     },
     "execution_count": 221,
     "metadata": {},
     "output_type": "execute_result"
    }
   ],
   "source": [
    "returns = tesla[\"Daily Returns\"]\n",
    "tsla_above_avg = returns[returns > tsla_avg_ret]\n",
    "tsla_semi_variance = np.mean((tsla_above_avg - tsla_avg_ret)**2)\n",
    "tsla_semi_variance"
   ]
  },
  {
   "cell_type": "code",
   "execution_count": 222,
   "metadata": {},
   "outputs": [
    {
     "data": {
      "text/plain": [
       "0.0025271493645680843"
      ]
     },
     "execution_count": 222,
     "metadata": {},
     "output_type": "execute_result"
    }
   ],
   "source": [
    "bitcoin_return = bitcoin[\"Daily Returns\"]\n",
    "btc_avg_ret = bitcoin_return.mean()\n",
    "btc_avg_ret"
   ]
  },
  {
   "cell_type": "code",
   "execution_count": 223,
   "metadata": {},
   "outputs": [
    {
     "data": {
      "text/plain": [
       "0.0010758322890453934"
      ]
     },
     "execution_count": 223,
     "metadata": {},
     "output_type": "execute_result"
    }
   ],
   "source": [
    "returns = bitcoin[\"Daily Returns\"]\n",
    "btc_above_avg = returns[returns > btc_avg_ret]\n",
    "btc_semi_variance = np.mean((btc_above_avg - btc_avg_ret)**2)\n",
    "btc_semi_variance"
   ]
  },
  {
   "cell_type": "code",
   "execution_count": 224,
   "metadata": {},
   "outputs": [
    {
     "data": {
      "text/plain": [
       "0.0005379161445226967"
      ]
     },
     "execution_count": 224,
     "metadata": {},
     "output_type": "execute_result"
    }
   ],
   "source": [
    "tsla_semi_dev = tsla_semi_variance **1/2\n",
    "btc_semi_dev = btc_semi_variance**1/2\n",
    "tsla_semi_dev\n",
    "btc_semi_dev"
   ]
  },
  {
   "cell_type": "code",
   "execution_count": 225,
   "metadata": {},
   "outputs": [
    {
     "data": {
      "text/plain": [
       "(0.019328082653753752, 0.022109108087103677)"
      ]
     },
     "execution_count": 225,
     "metadata": {},
     "output_type": "execute_result"
    }
   ],
   "source": [
    "tsla_mean_dev = np.mean(np.abs(tsla_above_avg - tsla_avg_ret))\n",
    "btc_mean_dev = np.mean(np.abs(btc_above_avg - btc_avg_ret))\n",
    "tsla_mean_dev, btc_mean_dev"
   ]
  },
  {
   "cell_type": "code",
   "execution_count": 226,
   "metadata": {},
   "outputs": [
    {
     "data": {
      "image/png": "[encoded data removed]",
      "text/plain": [
       "<Figure size 1000x500 with 3 Axes>"
      ]
     },
     "metadata": {},
     "output_type": "display_data"
    }
   ],
   "source": [
    "fig, axs = plt.subplots(1, 3, figsize=(10,5))\n",
    "\n",
    "axs[0].bar([\"Tesla\", \"Bitcoin\"], [tsla_semi_variance, btc_semi_variance], color='red')\n",
    "axs[0].set_title(\"Semi-Variance\")\n",
    "axs[0].set_ylabel(\"Semi-Variance\")\n",
    "\n",
    "axs[1].bar([\"Tesla\", \"Bitcoin\"], [tsla_semi_dev, btc_semi_dev], color='blue')\n",
    "axs[1].set_title(\"Semi-Deviation\")\n",
    "axs[1].set_ylabel(\"Semi-Variance\")\n",
    "\n",
    "axs[2].bar([\"Tesla\", \"Bitcoin\"], [tsla_mean_dev, btc_mean_dev], color='green')\n",
    "axs[2].set_title(\"Mean Absolute Deviation\")\n",
    "axs[2].set_ylabel(\"Mean Absolute Deviation\")\n",
    "\n",
    "fig.subplots_adjust(wspace=0.5)\n",
    "\n",
    "plt.show()"
   ]
  },
  {
   "cell_type": "markdown",
   "metadata": {},
   "source": [
    "### Calculating the correlation between two assets"
   ]
  },
  {
   "cell_type": "code",
   "execution_count": 228,
   "metadata": {},
   "outputs": [
    {
     "data": {
      "text/plain": [
       "-0.01088786598963826"
      ]
     },
     "execution_count": 228,
     "metadata": {},
     "output_type": "execute_result"
    }
   ],
   "source": [
    "tesla[\"change(in %)\"] = tesla[\"Adj Close\"].pct_change()\n",
    "bitcoin[\"change(in %)\"] = bitcoin[\"Close\"].pct_change()\n",
    "tesla[\"change(in %)\"].corr(bitcoin[\"change(in %)\"], method='pearson')"
   ]
  },
  {
   "cell_type": "code",
   "execution_count": null,
   "metadata": {},
   "outputs": [],
   "source": [
    "corr = np.corrcoef(x, y)[0, 1]\n",
    "\n",
    "# create scatter plot\n",
    "fig, ax = plt.subplots()\n",
    "ax.scatter(x, y)\n",
    "ax.set_xlabel('x')\n",
    "ax.set_ylabel('y')\n",
    "ax.set_title(f'Scatter Plot (correlation = {corr:.2f})')\n",
    "plt.show()"
   ]
  },
  {
   "cell_type": "code",
   "execution_count": 229,
   "metadata": {},
   "outputs": [
    {
     "data": {
      "text/plain": [
       "-0.06477353525300912"
      ]
     },
     "execution_count": 229,
     "metadata": {},
     "output_type": "execute_result"
    }
   ],
   "source": [
    "tesla[\"change(in %)\"].corr(bitcoin[\"change(in %)\"], method='spearman')"
   ]
  },
  {
   "cell_type": "code",
   "execution_count": 257,
   "metadata": {},
   "outputs": [
    {
     "data": {
      "text/plain": [
       "-0.0425596363494333"
      ]
     },
     "execution_count": 257,
     "metadata": {},
     "output_type": "execute_result"
    }
   ],
   "source": [
    "tesla[\"change(in %)\"].corr(bitcoin[\"change(in %)\"], method='kendall')"
   ]
  },
  {
   "cell_type": "code",
   "execution_count": 256,
   "metadata": {},
   "outputs": [
    {
     "data": {
      "text/plain": [
       "-0.034455535160397475"
      ]
     },
     "execution_count": 256,
     "metadata": {},
     "output_type": "execute_result"
    }
   ],
   "source": [
    "weights = np.array([0.5, 0.5]) \n",
    "portfolio_returns = np.dot(weights, [tesla['Daily Returns'], bitcoin['Daily Returns']])\n",
    "portfolio_returns = np.nan_to_num(portfolio_returns, nan=0)\n",
    "portfolio_mean = np.mean(portfolio_returns)\n",
    "portfolio_std = np.std(portfolio_returns)\n",
    "\n",
    "confidence_level = 0.95 \n",
    "time_horizon = 1  \n",
    "z_score = norm.ppf(confidence_level)\n",
    "portfolio_var = portfolio_mean - z_score * portfolio_std * np.sqrt(time_horizon)\n",
    "portfolio_var"
   ]
  },
  {
   "cell_type": "code",
   "execution_count": null,
   "metadata": {},
   "outputs": [],
   "source": []
  }
 ],
 "metadata": {
  "kernelspec": {
   "display_name": "Python 3 (ipykernel)",
   "language": "python",
   "name": "python3"
  },
  "language_info": {
   "codemirror_mode": {
    "name": "ipython",
    "version": 3
   },
   "file_extension": ".py",
   "mimetype": "text/x-python",
   "name": "python",
   "nbconvert_exporter": "python",
   "pygments_lexer": "ipython3",
   "version": "3.10.6"
  }
 },
 "nbformat": 4,
 "nbformat_minor": 2
}
